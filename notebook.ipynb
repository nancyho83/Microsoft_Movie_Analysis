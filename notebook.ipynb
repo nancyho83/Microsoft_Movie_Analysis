{
 "cells": [
  {
   "cell_type": "markdown",
   "metadata": {},
   "source": [
    "- As we enter the digital age, more and more companies are starting to venture into movie production. To remain on par with their competitors, it may be necessary for a tech giant like Microsoft to also consider movie production. Using data about successful movies from many sources, I describe attributes of successful movies in order to give corporate heads and investors an idea as to what kind of movies Microsoft should produce to ensure success.\n",
    "- I believe there are two main factors that contribute to a movie's success: the profit it makes and its ratings from critics and moviewatchers."
   ]
  },
  {
   "cell_type": "markdown",
   "metadata": {},
   "source": [
    "## Data Understanding"
   ]
  },
  {
   "cell_type": "code",
   "execution_count": 1,
   "metadata": {},
   "outputs": [],
   "source": [
    "import pandas as pd\n",
    "import numpy as np\n",
    "import matplotlib.pyplot as plt\n",
    "import seaborn as sns\n",
    "import sqlite3\n",
    "\n",
    "%matplotlib inline"
   ]
  },
  {
   "cell_type": "code",
   "execution_count": 2,
   "metadata": {},
   "outputs": [
    {
     "name": "stdout",
     "output_type": "stream",
     "text": [
      "imdb_title_principals table created successfully....\n",
      "imdb_name_basic table created successfully....\n",
      "imdb_title_crew table created successfully....\n",
      "imdb_title_ratings table created successfully....\n",
      "imdb_title_basics table created successfully....\n",
      "imdb_title_akas table created successfully....\n",
      "tn_movie_budgets table created successfully....\n",
      "tmdb_movies table created successfully....\n",
      "bom_movie_gross table created successfully....\n",
      "rotten_tomatoes_critic_reviews table created successfully....\n",
      "rotten_tomatoes_movies table created successfully....\n",
      "=========================================================\n",
      "Inserting data into the imdb_title_crew table....\n",
      "Inserting data into the tmdb_movies table....\n",
      "Inserting data into the imdb_title_akas table....\n",
      "Inserting data into the imdb_title_ratings table....\n",
      "Inserting data into the imdb_name_basics table....\n",
      "Inserting data into the rotten_tomatoes_movies table....\n",
      "Inserting data into the rotten_tomatoes_critic_reviews table....\n",
      "Inserting data into the imdb_title_basics table....\n",
      "Inserting data into the tn_movie_budgets table....\n",
      "Inserting data into the bom_movie_gross table....\n",
      "Inserting data into the imdb_title_principals table....\n",
      "=========================================================\n",
      "Database created successfully!\n",
      "To connect to the database: open a connection using the path \"data\\movies.db\"\n"
     ]
    }
   ],
   "source": [
    "from src.make_db import create_movies_db\n",
    "create_movies_db()"
   ]
  },
  {
   "cell_type": "code",
   "execution_count": 3,
   "metadata": {},
   "outputs": [],
   "source": [
    "conn = sqlite3.connect('data\\movies.db')\n",
    "cur = conn.cursor()"
   ]
  },
  {
   "cell_type": "code",
   "execution_count": 4,
   "metadata": {},
   "outputs": [
    {
     "data": {
      "text/html": [
       "<div>\n",
       "<style scoped>\n",
       "    .dataframe tbody tr th:only-of-type {\n",
       "        vertical-align: middle;\n",
       "    }\n",
       "\n",
       "    .dataframe tbody tr th {\n",
       "        vertical-align: top;\n",
       "    }\n",
       "\n",
       "    .dataframe thead th {\n",
       "        text-align: right;\n",
       "    }\n",
       "</style>\n",
       "<table border=\"1\" class=\"dataframe\">\n",
       "  <thead>\n",
       "    <tr style=\"text-align: right;\">\n",
       "      <th></th>\n",
       "      <th>idx</th>\n",
       "      <th>title</th>\n",
       "      <th>studio</th>\n",
       "      <th>domestic_gross</th>\n",
       "      <th>foreign_gross</th>\n",
       "      <th>year</th>\n",
       "    </tr>\n",
       "  </thead>\n",
       "  <tbody>\n",
       "    <tr>\n",
       "      <th>0</th>\n",
       "      <td>1872</td>\n",
       "      <td>Star Wars: The Force Awakens</td>\n",
       "      <td>BV</td>\n",
       "      <td>936700000.0</td>\n",
       "      <td>1,131.6</td>\n",
       "      <td>2015</td>\n",
       "    </tr>\n",
       "    <tr>\n",
       "      <th>1</th>\n",
       "      <td>3080</td>\n",
       "      <td>Black Panther</td>\n",
       "      <td>BV</td>\n",
       "      <td>700100000.0</td>\n",
       "      <td>646900000</td>\n",
       "      <td>2018</td>\n",
       "    </tr>\n",
       "    <tr>\n",
       "      <th>2</th>\n",
       "      <td>3079</td>\n",
       "      <td>Avengers: Infinity War</td>\n",
       "      <td>BV</td>\n",
       "      <td>678800000.0</td>\n",
       "      <td>1,369.5</td>\n",
       "      <td>2018</td>\n",
       "    </tr>\n",
       "    <tr>\n",
       "      <th>3</th>\n",
       "      <td>1873</td>\n",
       "      <td>Jurassic World</td>\n",
       "      <td>Uni.</td>\n",
       "      <td>652300000.0</td>\n",
       "      <td>1,019.4</td>\n",
       "      <td>2015</td>\n",
       "    </tr>\n",
       "    <tr>\n",
       "      <th>4</th>\n",
       "      <td>727</td>\n",
       "      <td>Marvel's The Avengers</td>\n",
       "      <td>BV</td>\n",
       "      <td>623400000.0</td>\n",
       "      <td>895500000</td>\n",
       "      <td>2012</td>\n",
       "    </tr>\n",
       "  </tbody>\n",
       "</table>\n",
       "</div>"
      ],
      "text/plain": [
       "    idx                         title studio  domestic_gross foreign_gross  \\\n",
       "0  1872  Star Wars: The Force Awakens     BV     936700000.0       1,131.6   \n",
       "1  3080                 Black Panther     BV     700100000.0     646900000   \n",
       "2  3079        Avengers: Infinity War     BV     678800000.0       1,369.5   \n",
       "3  1873                Jurassic World   Uni.     652300000.0       1,019.4   \n",
       "4   727         Marvel's The Avengers     BV     623400000.0     895500000   \n",
       "\n",
       "   year  \n",
       "0  2015  \n",
       "1  2018  \n",
       "2  2018  \n",
       "3  2015  \n",
       "4  2012  "
      ]
     },
     "execution_count": 4,
     "metadata": {},
     "output_type": "execute_result"
    }
   ],
   "source": [
    "cur.execute(\"\"\"SELECT * \n",
    "               FROM bom_movie_gross\n",
    "               ORDER BY domestic_gross DESC;\"\"\")\n",
    "test_df = pd.DataFrame(cur.fetchall())\n",
    "test_df.columns = [x[0] for x in cur.description]\n",
    "test_df.head(5)"
   ]
  },
  {
   "cell_type": "markdown",
   "metadata": {},
   "source": [
    "## Data Preparation"
   ]
  },
  {
   "cell_type": "markdown",
   "metadata": {},
   "source": [
    "Joining `tn_movie_budgets` and `imdb_movie_basics`"
   ]
  },
  {
   "cell_type": "code",
   "execution_count": 5,
   "metadata": {},
   "outputs": [
    {
     "data": {
      "text/html": [
       "<div>\n",
       "<style scoped>\n",
       "    .dataframe tbody tr th:only-of-type {\n",
       "        vertical-align: middle;\n",
       "    }\n",
       "\n",
       "    .dataframe tbody tr th {\n",
       "        vertical-align: top;\n",
       "    }\n",
       "\n",
       "    .dataframe thead th {\n",
       "        text-align: right;\n",
       "    }\n",
       "</style>\n",
       "<table border=\"1\" class=\"dataframe\">\n",
       "  <thead>\n",
       "    <tr style=\"text-align: right;\">\n",
       "      <th></th>\n",
       "      <th>movie</th>\n",
       "      <th>domestic_gross</th>\n",
       "      <th>foreign_gross</th>\n",
       "      <th>genres</th>\n",
       "    </tr>\n",
       "  </thead>\n",
       "  <tbody>\n",
       "    <tr>\n",
       "      <th>0</th>\n",
       "      <td>'71</td>\n",
       "      <td>1300000.0</td>\n",
       "      <td>355000</td>\n",
       "      <td>Action,Drama,Thriller</td>\n",
       "    </tr>\n",
       "    <tr>\n",
       "      <th>1</th>\n",
       "      <td>1,000 Times Good Night</td>\n",
       "      <td>53900.0</td>\n",
       "      <td>None</td>\n",
       "      <td>Drama,War</td>\n",
       "    </tr>\n",
       "    <tr>\n",
       "      <th>2</th>\n",
       "      <td>10 Cloverfield Lane</td>\n",
       "      <td>72100000.0</td>\n",
       "      <td>38100000</td>\n",
       "      <td>Drama,Horror,Mystery</td>\n",
       "    </tr>\n",
       "    <tr>\n",
       "      <th>3</th>\n",
       "      <td>10 Years</td>\n",
       "      <td>203000.0</td>\n",
       "      <td>None</td>\n",
       "      <td>Comedy,Drama,Romance</td>\n",
       "    </tr>\n",
       "    <tr>\n",
       "      <th>4</th>\n",
       "      <td>1001 Grams</td>\n",
       "      <td>11000.0</td>\n",
       "      <td>None</td>\n",
       "      <td>Drama</td>\n",
       "    </tr>\n",
       "    <tr>\n",
       "      <th>...</th>\n",
       "      <td>...</td>\n",
       "      <td>...</td>\n",
       "      <td>...</td>\n",
       "      <td>...</td>\n",
       "    </tr>\n",
       "    <tr>\n",
       "      <th>2600</th>\n",
       "      <td>Zindagi Na Milegi Dobara</td>\n",
       "      <td>3100000.0</td>\n",
       "      <td>None</td>\n",
       "      <td>Comedy,Drama</td>\n",
       "    </tr>\n",
       "    <tr>\n",
       "      <th>2601</th>\n",
       "      <td>Zombeavers</td>\n",
       "      <td>14900.0</td>\n",
       "      <td>None</td>\n",
       "      <td>Action,Adventure,Comedy</td>\n",
       "    </tr>\n",
       "    <tr>\n",
       "      <th>2602</th>\n",
       "      <td>Zookeeper</td>\n",
       "      <td>80400000.0</td>\n",
       "      <td>89500000</td>\n",
       "      <td>Comedy,Family,Romance</td>\n",
       "    </tr>\n",
       "    <tr>\n",
       "      <th>2603</th>\n",
       "      <td>Zoolander 2</td>\n",
       "      <td>28800000.0</td>\n",
       "      <td>27900000</td>\n",
       "      <td>Comedy</td>\n",
       "    </tr>\n",
       "    <tr>\n",
       "      <th>2604</th>\n",
       "      <td>Zootopia</td>\n",
       "      <td>341300000.0</td>\n",
       "      <td>682500000</td>\n",
       "      <td>Adventure,Animation,Comedy</td>\n",
       "    </tr>\n",
       "  </tbody>\n",
       "</table>\n",
       "<p>2605 rows × 4 columns</p>\n",
       "</div>"
      ],
      "text/plain": [
       "                         movie  domestic_gross foreign_gross  \\\n",
       "0                          '71       1300000.0        355000   \n",
       "1       1,000 Times Good Night         53900.0          None   \n",
       "2          10 Cloverfield Lane      72100000.0      38100000   \n",
       "3                     10 Years        203000.0          None   \n",
       "4                   1001 Grams         11000.0          None   \n",
       "...                        ...             ...           ...   \n",
       "2600  Zindagi Na Milegi Dobara       3100000.0          None   \n",
       "2601                Zombeavers         14900.0          None   \n",
       "2602                 Zookeeper      80400000.0      89500000   \n",
       "2603               Zoolander 2      28800000.0      27900000   \n",
       "2604                  Zootopia     341300000.0     682500000   \n",
       "\n",
       "                          genres  \n",
       "0          Action,Drama,Thriller  \n",
       "1                      Drama,War  \n",
       "2           Drama,Horror,Mystery  \n",
       "3           Comedy,Drama,Romance  \n",
       "4                          Drama  \n",
       "...                          ...  \n",
       "2600                Comedy,Drama  \n",
       "2601     Action,Adventure,Comedy  \n",
       "2602       Comedy,Family,Romance  \n",
       "2603                      Comedy  \n",
       "2604  Adventure,Animation,Comedy  \n",
       "\n",
       "[2605 rows x 4 columns]"
      ]
     },
     "execution_count": 5,
     "metadata": {},
     "output_type": "execute_result"
    }
   ],
   "source": [
    "cur.execute(\"\"\"SELECT b.title AS movie, b.domestic_gross, b.foreign_gross, m.genres \n",
    "               FROM bom_movie_gross b\n",
    "               JOIN imdb_title_basics m\n",
    "               ON b.title = m.primary_title\n",
    "               GROUP BY movie;\"\"\")\n",
    "gross_df = pd.DataFrame(cur.fetchall())\n",
    "gross_df.columns = [x[0] for x in cur.description]\n",
    "gross_df"
   ]
  },
  {
   "cell_type": "markdown",
   "metadata": {},
   "source": [
    "Splitting movies by genre"
   ]
  },
  {
   "cell_type": "code",
   "execution_count": 6,
   "metadata": {},
   "outputs": [],
   "source": [
    "gross_df['split_genres'] = gross_df['genres'].str.split(',')\n",
    "gross_df = gross_df.dropna(subset = ['genres'])"
   ]
  },
  {
   "cell_type": "markdown",
   "metadata": {},
   "source": [
    "I discovered during my analysis that the `foreign_gross` column had strings, so I converted it into float values\n",
    "\n"
   ]
  },
  {
   "cell_type": "code",
   "execution_count": 7,
   "metadata": {},
   "outputs": [
    {
     "data": {
      "text/plain": [
       "numpy.float64"
      ]
     },
     "execution_count": 7,
     "metadata": {},
     "output_type": "execute_result"
    }
   ],
   "source": [
    "type(gross_df['domestic_gross'].iloc[0])"
   ]
  },
  {
   "cell_type": "code",
   "execution_count": 8,
   "metadata": {},
   "outputs": [
    {
     "name": "stderr",
     "output_type": "stream",
     "text": [
      "<ipython-input-8-a0f91ea86bdb>:1: SettingWithCopyWarning: \n",
      "A value is trying to be set on a copy of a slice from a DataFrame.\n",
      "Try using .loc[row_indexer,col_indexer] = value instead\n",
      "\n",
      "See the caveats in the documentation: https://pandas.pydata.org/pandas-docs/stable/user_guide/indexing.html#returning-a-view-versus-a-copy\n",
      "  gross_df['foreign_gross'] = gross_df['foreign_gross'].str.replace(',','').astype(float)\n"
     ]
    }
   ],
   "source": [
    "gross_df['foreign_gross'] = gross_df['foreign_gross'].str.replace(',','').astype(float)"
   ]
  },
  {
   "cell_type": "code",
   "execution_count": 9,
   "metadata": {},
   "outputs": [
    {
     "name": "stderr",
     "output_type": "stream",
     "text": [
      "<ipython-input-9-16b5401ce21f>:1: SettingWithCopyWarning: \n",
      "A value is trying to be set on a copy of a slice from a DataFrame.\n",
      "Try using .loc[row_indexer,col_indexer] = value instead\n",
      "\n",
      "See the caveats in the documentation: https://pandas.pydata.org/pandas-docs/stable/user_guide/indexing.html#returning-a-view-versus-a-copy\n",
      "  gross_df['foreign_gross'] = gross_df['foreign_gross'].fillna(0)\n"
     ]
    }
   ],
   "source": [
    "gross_df['foreign_gross'] = gross_df['foreign_gross'].fillna(0)"
   ]
  },
  {
   "cell_type": "code",
   "execution_count": 10,
   "metadata": {},
   "outputs": [
    {
     "name": "stderr",
     "output_type": "stream",
     "text": [
      "<ipython-input-10-110fddf8954f>:2: SettingWithCopyWarning: \n",
      "A value is trying to be set on a copy of a slice from a DataFrame.\n",
      "Try using .loc[row_indexer,col_indexer] = value instead\n",
      "\n",
      "See the caveats in the documentation: https://pandas.pydata.org/pandas-docs/stable/user_guide/indexing.html#returning-a-view-versus-a-copy\n",
      "  gross_df['total_gross'] = gross_df['domestic_gross'] + gross_df['foreign_gross']\n"
     ]
    }
   ],
   "source": [
    "gross_df['domestic_gross'].dropna()\n",
    "gross_df['total_gross'] = gross_df['domestic_gross'] + gross_df['foreign_gross']"
   ]
  },
  {
   "cell_type": "code",
   "execution_count": 11,
   "metadata": {},
   "outputs": [
    {
     "data": {
      "text/html": [
       "<div>\n",
       "<style scoped>\n",
       "    .dataframe tbody tr th:only-of-type {\n",
       "        vertical-align: middle;\n",
       "    }\n",
       "\n",
       "    .dataframe tbody tr th {\n",
       "        vertical-align: top;\n",
       "    }\n",
       "\n",
       "    .dataframe thead th {\n",
       "        text-align: right;\n",
       "    }\n",
       "</style>\n",
       "<table border=\"1\" class=\"dataframe\">\n",
       "  <thead>\n",
       "    <tr style=\"text-align: right;\">\n",
       "      <th></th>\n",
       "      <th>movie</th>\n",
       "      <th>domestic_gross</th>\n",
       "      <th>foreign_gross</th>\n",
       "      <th>genres</th>\n",
       "      <th>split_genres</th>\n",
       "      <th>total_gross</th>\n",
       "    </tr>\n",
       "  </thead>\n",
       "  <tbody>\n",
       "    <tr>\n",
       "      <th>0</th>\n",
       "      <td>'71</td>\n",
       "      <td>1300000.0</td>\n",
       "      <td>355000.0</td>\n",
       "      <td>Action,Drama,Thriller</td>\n",
       "      <td>Action</td>\n",
       "      <td>1.655000e+06</td>\n",
       "    </tr>\n",
       "    <tr>\n",
       "      <th>0</th>\n",
       "      <td>'71</td>\n",
       "      <td>1300000.0</td>\n",
       "      <td>355000.0</td>\n",
       "      <td>Action,Drama,Thriller</td>\n",
       "      <td>Drama</td>\n",
       "      <td>1.655000e+06</td>\n",
       "    </tr>\n",
       "    <tr>\n",
       "      <th>0</th>\n",
       "      <td>'71</td>\n",
       "      <td>1300000.0</td>\n",
       "      <td>355000.0</td>\n",
       "      <td>Action,Drama,Thriller</td>\n",
       "      <td>Thriller</td>\n",
       "      <td>1.655000e+06</td>\n",
       "    </tr>\n",
       "    <tr>\n",
       "      <th>1</th>\n",
       "      <td>1,000 Times Good Night</td>\n",
       "      <td>53900.0</td>\n",
       "      <td>0.0</td>\n",
       "      <td>Drama,War</td>\n",
       "      <td>Drama</td>\n",
       "      <td>5.390000e+04</td>\n",
       "    </tr>\n",
       "    <tr>\n",
       "      <th>1</th>\n",
       "      <td>1,000 Times Good Night</td>\n",
       "      <td>53900.0</td>\n",
       "      <td>0.0</td>\n",
       "      <td>Drama,War</td>\n",
       "      <td>War</td>\n",
       "      <td>5.390000e+04</td>\n",
       "    </tr>\n",
       "    <tr>\n",
       "      <th>...</th>\n",
       "      <td>...</td>\n",
       "      <td>...</td>\n",
       "      <td>...</td>\n",
       "      <td>...</td>\n",
       "      <td>...</td>\n",
       "      <td>...</td>\n",
       "    </tr>\n",
       "    <tr>\n",
       "      <th>2602</th>\n",
       "      <td>Zookeeper</td>\n",
       "      <td>80400000.0</td>\n",
       "      <td>89500000.0</td>\n",
       "      <td>Comedy,Family,Romance</td>\n",
       "      <td>Romance</td>\n",
       "      <td>1.699000e+08</td>\n",
       "    </tr>\n",
       "    <tr>\n",
       "      <th>2603</th>\n",
       "      <td>Zoolander 2</td>\n",
       "      <td>28800000.0</td>\n",
       "      <td>27900000.0</td>\n",
       "      <td>Comedy</td>\n",
       "      <td>Comedy</td>\n",
       "      <td>5.670000e+07</td>\n",
       "    </tr>\n",
       "    <tr>\n",
       "      <th>2604</th>\n",
       "      <td>Zootopia</td>\n",
       "      <td>341300000.0</td>\n",
       "      <td>682500000.0</td>\n",
       "      <td>Adventure,Animation,Comedy</td>\n",
       "      <td>Adventure</td>\n",
       "      <td>1.023800e+09</td>\n",
       "    </tr>\n",
       "    <tr>\n",
       "      <th>2604</th>\n",
       "      <td>Zootopia</td>\n",
       "      <td>341300000.0</td>\n",
       "      <td>682500000.0</td>\n",
       "      <td>Adventure,Animation,Comedy</td>\n",
       "      <td>Animation</td>\n",
       "      <td>1.023800e+09</td>\n",
       "    </tr>\n",
       "    <tr>\n",
       "      <th>2604</th>\n",
       "      <td>Zootopia</td>\n",
       "      <td>341300000.0</td>\n",
       "      <td>682500000.0</td>\n",
       "      <td>Adventure,Animation,Comedy</td>\n",
       "      <td>Comedy</td>\n",
       "      <td>1.023800e+09</td>\n",
       "    </tr>\n",
       "  </tbody>\n",
       "</table>\n",
       "<p>6103 rows × 6 columns</p>\n",
       "</div>"
      ],
      "text/plain": [
       "                       movie  domestic_gross  foreign_gross  \\\n",
       "0                        '71       1300000.0       355000.0   \n",
       "0                        '71       1300000.0       355000.0   \n",
       "0                        '71       1300000.0       355000.0   \n",
       "1     1,000 Times Good Night         53900.0            0.0   \n",
       "1     1,000 Times Good Night         53900.0            0.0   \n",
       "...                      ...             ...            ...   \n",
       "2602               Zookeeper      80400000.0     89500000.0   \n",
       "2603             Zoolander 2      28800000.0     27900000.0   \n",
       "2604                Zootopia     341300000.0    682500000.0   \n",
       "2604                Zootopia     341300000.0    682500000.0   \n",
       "2604                Zootopia     341300000.0    682500000.0   \n",
       "\n",
       "                          genres split_genres   total_gross  \n",
       "0          Action,Drama,Thriller       Action  1.655000e+06  \n",
       "0          Action,Drama,Thriller        Drama  1.655000e+06  \n",
       "0          Action,Drama,Thriller     Thriller  1.655000e+06  \n",
       "1                      Drama,War        Drama  5.390000e+04  \n",
       "1                      Drama,War          War  5.390000e+04  \n",
       "...                          ...          ...           ...  \n",
       "2602       Comedy,Family,Romance      Romance  1.699000e+08  \n",
       "2603                      Comedy       Comedy  5.670000e+07  \n",
       "2604  Adventure,Animation,Comedy    Adventure  1.023800e+09  \n",
       "2604  Adventure,Animation,Comedy    Animation  1.023800e+09  \n",
       "2604  Adventure,Animation,Comedy       Comedy  1.023800e+09  \n",
       "\n",
       "[6103 rows x 6 columns]"
      ]
     },
     "execution_count": 11,
     "metadata": {},
     "output_type": "execute_result"
    }
   ],
   "source": [
    "gross_df = gross_df.explode('split_genres')\n",
    "gross_df"
   ]
  },
  {
   "cell_type": "code",
   "execution_count": 12,
   "metadata": {},
   "outputs": [
    {
     "data": {
      "text/plain": [
       "movie              0\n",
       "domestic_gross    42\n",
       "foreign_gross      0\n",
       "genres             0\n",
       "split_genres       0\n",
       "total_gross       42\n",
       "dtype: int64"
      ]
     },
     "execution_count": 12,
     "metadata": {},
     "output_type": "execute_result"
    }
   ],
   "source": [
    "gross_df.isna().sum()"
   ]
  },
  {
   "cell_type": "markdown",
   "metadata": {},
   "source": [
    "Creating IMDB ratings data frame"
   ]
  },
  {
   "cell_type": "code",
   "execution_count": 13,
   "metadata": {},
   "outputs": [
    {
     "data": {
      "text/html": [
       "<div>\n",
       "<style scoped>\n",
       "    .dataframe tbody tr th:only-of-type {\n",
       "        vertical-align: middle;\n",
       "    }\n",
       "\n",
       "    .dataframe tbody tr th {\n",
       "        vertical-align: top;\n",
       "    }\n",
       "\n",
       "    .dataframe thead th {\n",
       "        text-align: right;\n",
       "    }\n",
       "</style>\n",
       "<table border=\"1\" class=\"dataframe\">\n",
       "  <thead>\n",
       "    <tr style=\"text-align: right;\">\n",
       "      <th></th>\n",
       "      <th>primary_title</th>\n",
       "      <th>averagerating</th>\n",
       "      <th>numvotes</th>\n",
       "      <th>genres</th>\n",
       "    </tr>\n",
       "  </thead>\n",
       "  <tbody>\n",
       "    <tr>\n",
       "      <th>0</th>\n",
       "      <td>Sunghursh</td>\n",
       "      <td>7.0</td>\n",
       "      <td>77</td>\n",
       "      <td>Action,Crime,Drama</td>\n",
       "    </tr>\n",
       "    <tr>\n",
       "      <th>1</th>\n",
       "      <td>One Day Before the Rainy Season</td>\n",
       "      <td>7.2</td>\n",
       "      <td>43</td>\n",
       "      <td>Biography,Drama</td>\n",
       "    </tr>\n",
       "    <tr>\n",
       "      <th>2</th>\n",
       "      <td>The Other Side of the Wind</td>\n",
       "      <td>6.9</td>\n",
       "      <td>4517</td>\n",
       "      <td>Drama</td>\n",
       "    </tr>\n",
       "    <tr>\n",
       "      <th>3</th>\n",
       "      <td>Sabse Bada Sukh</td>\n",
       "      <td>6.1</td>\n",
       "      <td>13</td>\n",
       "      <td>Comedy,Drama</td>\n",
       "    </tr>\n",
       "    <tr>\n",
       "      <th>4</th>\n",
       "      <td>The Wandering Soap Opera</td>\n",
       "      <td>6.5</td>\n",
       "      <td>119</td>\n",
       "      <td>Comedy,Drama,Fantasy</td>\n",
       "    </tr>\n",
       "    <tr>\n",
       "      <th>...</th>\n",
       "      <td>...</td>\n",
       "      <td>...</td>\n",
       "      <td>...</td>\n",
       "      <td>...</td>\n",
       "    </tr>\n",
       "    <tr>\n",
       "      <th>73851</th>\n",
       "      <td>Diabolik sono io</td>\n",
       "      <td>6.2</td>\n",
       "      <td>6</td>\n",
       "      <td>Documentary</td>\n",
       "    </tr>\n",
       "    <tr>\n",
       "      <th>73852</th>\n",
       "      <td>Sokagin Çocuklari</td>\n",
       "      <td>8.7</td>\n",
       "      <td>136</td>\n",
       "      <td>Drama,Family</td>\n",
       "    </tr>\n",
       "    <tr>\n",
       "      <th>73853</th>\n",
       "      <td>Albatross</td>\n",
       "      <td>8.5</td>\n",
       "      <td>8</td>\n",
       "      <td>Documentary</td>\n",
       "    </tr>\n",
       "    <tr>\n",
       "      <th>73854</th>\n",
       "      <td>La vida sense la Sara Amat</td>\n",
       "      <td>6.6</td>\n",
       "      <td>5</td>\n",
       "      <td>None</td>\n",
       "    </tr>\n",
       "    <tr>\n",
       "      <th>73855</th>\n",
       "      <td>Drømmeland</td>\n",
       "      <td>6.5</td>\n",
       "      <td>11</td>\n",
       "      <td>Documentary</td>\n",
       "    </tr>\n",
       "  </tbody>\n",
       "</table>\n",
       "<p>73856 rows × 4 columns</p>\n",
       "</div>"
      ],
      "text/plain": [
       "                         primary_title  averagerating  numvotes  \\\n",
       "0                            Sunghursh            7.0        77   \n",
       "1      One Day Before the Rainy Season            7.2        43   \n",
       "2           The Other Side of the Wind            6.9      4517   \n",
       "3                      Sabse Bada Sukh            6.1        13   \n",
       "4             The Wandering Soap Opera            6.5       119   \n",
       "...                                ...            ...       ...   \n",
       "73851                 Diabolik sono io            6.2         6   \n",
       "73852                Sokagin Çocuklari            8.7       136   \n",
       "73853                        Albatross            8.5         8   \n",
       "73854       La vida sense la Sara Amat            6.6         5   \n",
       "73855                       Drømmeland            6.5        11   \n",
       "\n",
       "                     genres  \n",
       "0        Action,Crime,Drama  \n",
       "1           Biography,Drama  \n",
       "2                     Drama  \n",
       "3              Comedy,Drama  \n",
       "4      Comedy,Drama,Fantasy  \n",
       "...                     ...  \n",
       "73851           Documentary  \n",
       "73852          Drama,Family  \n",
       "73853           Documentary  \n",
       "73854                  None  \n",
       "73855           Documentary  \n",
       "\n",
       "[73856 rows x 4 columns]"
      ]
     },
     "execution_count": 13,
     "metadata": {},
     "output_type": "execute_result"
    }
   ],
   "source": [
    "cur.execute(\"\"\"SELECT m.primary_title, r.averagerating, r.numvotes, m.genres\n",
    "               FROM imdb_title_basics m\n",
    "               JOIN imdb_title_ratings r\n",
    "               USING(tconst);\"\"\")\n",
    "ratings_df = pd.DataFrame(cur.fetchall())\n",
    "ratings_df.columns = [x[0] for x in cur.description]\n",
    "ratings_df"
   ]
  },
  {
   "cell_type": "markdown",
   "metadata": {},
   "source": [
    "Spliting genres for each movie"
   ]
  },
  {
   "cell_type": "code",
   "execution_count": 14,
   "metadata": {},
   "outputs": [
    {
     "data": {
      "text/html": [
       "<div>\n",
       "<style scoped>\n",
       "    .dataframe tbody tr th:only-of-type {\n",
       "        vertical-align: middle;\n",
       "    }\n",
       "\n",
       "    .dataframe tbody tr th {\n",
       "        vertical-align: top;\n",
       "    }\n",
       "\n",
       "    .dataframe thead th {\n",
       "        text-align: right;\n",
       "    }\n",
       "</style>\n",
       "<table border=\"1\" class=\"dataframe\">\n",
       "  <thead>\n",
       "    <tr style=\"text-align: right;\">\n",
       "      <th></th>\n",
       "      <th>primary_title</th>\n",
       "      <th>averagerating</th>\n",
       "      <th>numvotes</th>\n",
       "      <th>genres</th>\n",
       "      <th>split_genres</th>\n",
       "    </tr>\n",
       "  </thead>\n",
       "  <tbody>\n",
       "    <tr>\n",
       "      <th>0</th>\n",
       "      <td>Sunghursh</td>\n",
       "      <td>7.0</td>\n",
       "      <td>77</td>\n",
       "      <td>Action,Crime,Drama</td>\n",
       "      <td>[Action, Crime, Drama]</td>\n",
       "    </tr>\n",
       "    <tr>\n",
       "      <th>1</th>\n",
       "      <td>One Day Before the Rainy Season</td>\n",
       "      <td>7.2</td>\n",
       "      <td>43</td>\n",
       "      <td>Biography,Drama</td>\n",
       "      <td>[Biography, Drama]</td>\n",
       "    </tr>\n",
       "    <tr>\n",
       "      <th>2</th>\n",
       "      <td>The Other Side of the Wind</td>\n",
       "      <td>6.9</td>\n",
       "      <td>4517</td>\n",
       "      <td>Drama</td>\n",
       "      <td>[Drama]</td>\n",
       "    </tr>\n",
       "    <tr>\n",
       "      <th>3</th>\n",
       "      <td>Sabse Bada Sukh</td>\n",
       "      <td>6.1</td>\n",
       "      <td>13</td>\n",
       "      <td>Comedy,Drama</td>\n",
       "      <td>[Comedy, Drama]</td>\n",
       "    </tr>\n",
       "    <tr>\n",
       "      <th>4</th>\n",
       "      <td>The Wandering Soap Opera</td>\n",
       "      <td>6.5</td>\n",
       "      <td>119</td>\n",
       "      <td>Comedy,Drama,Fantasy</td>\n",
       "      <td>[Comedy, Drama, Fantasy]</td>\n",
       "    </tr>\n",
       "    <tr>\n",
       "      <th>...</th>\n",
       "      <td>...</td>\n",
       "      <td>...</td>\n",
       "      <td>...</td>\n",
       "      <td>...</td>\n",
       "      <td>...</td>\n",
       "    </tr>\n",
       "    <tr>\n",
       "      <th>73851</th>\n",
       "      <td>Diabolik sono io</td>\n",
       "      <td>6.2</td>\n",
       "      <td>6</td>\n",
       "      <td>Documentary</td>\n",
       "      <td>[Documentary]</td>\n",
       "    </tr>\n",
       "    <tr>\n",
       "      <th>73852</th>\n",
       "      <td>Sokagin Çocuklari</td>\n",
       "      <td>8.7</td>\n",
       "      <td>136</td>\n",
       "      <td>Drama,Family</td>\n",
       "      <td>[Drama, Family]</td>\n",
       "    </tr>\n",
       "    <tr>\n",
       "      <th>73853</th>\n",
       "      <td>Albatross</td>\n",
       "      <td>8.5</td>\n",
       "      <td>8</td>\n",
       "      <td>Documentary</td>\n",
       "      <td>[Documentary]</td>\n",
       "    </tr>\n",
       "    <tr>\n",
       "      <th>73854</th>\n",
       "      <td>La vida sense la Sara Amat</td>\n",
       "      <td>6.6</td>\n",
       "      <td>5</td>\n",
       "      <td>None</td>\n",
       "      <td>None</td>\n",
       "    </tr>\n",
       "    <tr>\n",
       "      <th>73855</th>\n",
       "      <td>Drømmeland</td>\n",
       "      <td>6.5</td>\n",
       "      <td>11</td>\n",
       "      <td>Documentary</td>\n",
       "      <td>[Documentary]</td>\n",
       "    </tr>\n",
       "  </tbody>\n",
       "</table>\n",
       "<p>73856 rows × 5 columns</p>\n",
       "</div>"
      ],
      "text/plain": [
       "                         primary_title  averagerating  numvotes  \\\n",
       "0                            Sunghursh            7.0        77   \n",
       "1      One Day Before the Rainy Season            7.2        43   \n",
       "2           The Other Side of the Wind            6.9      4517   \n",
       "3                      Sabse Bada Sukh            6.1        13   \n",
       "4             The Wandering Soap Opera            6.5       119   \n",
       "...                                ...            ...       ...   \n",
       "73851                 Diabolik sono io            6.2         6   \n",
       "73852                Sokagin Çocuklari            8.7       136   \n",
       "73853                        Albatross            8.5         8   \n",
       "73854       La vida sense la Sara Amat            6.6         5   \n",
       "73855                       Drømmeland            6.5        11   \n",
       "\n",
       "                     genres              split_genres  \n",
       "0        Action,Crime,Drama    [Action, Crime, Drama]  \n",
       "1           Biography,Drama        [Biography, Drama]  \n",
       "2                     Drama                   [Drama]  \n",
       "3              Comedy,Drama           [Comedy, Drama]  \n",
       "4      Comedy,Drama,Fantasy  [Comedy, Drama, Fantasy]  \n",
       "...                     ...                       ...  \n",
       "73851           Documentary             [Documentary]  \n",
       "73852          Drama,Family           [Drama, Family]  \n",
       "73853           Documentary             [Documentary]  \n",
       "73854                  None                      None  \n",
       "73855           Documentary             [Documentary]  \n",
       "\n",
       "[73856 rows x 5 columns]"
      ]
     },
     "execution_count": 14,
     "metadata": {},
     "output_type": "execute_result"
    }
   ],
   "source": [
    "ratings_df['split_genres'] = ratings_df['genres'].str.split(',')\n",
    "ratings_df"
   ]
  },
  {
   "cell_type": "code",
   "execution_count": 15,
   "metadata": {},
   "outputs": [],
   "source": [
    "ratings_df = ratings_df.dropna(subset = ['genres'])"
   ]
  },
  {
   "cell_type": "code",
   "execution_count": 16,
   "metadata": {},
   "outputs": [
    {
     "data": {
      "text/html": [
       "<div>\n",
       "<style scoped>\n",
       "    .dataframe tbody tr th:only-of-type {\n",
       "        vertical-align: middle;\n",
       "    }\n",
       "\n",
       "    .dataframe tbody tr th {\n",
       "        vertical-align: top;\n",
       "    }\n",
       "\n",
       "    .dataframe thead th {\n",
       "        text-align: right;\n",
       "    }\n",
       "</style>\n",
       "<table border=\"1\" class=\"dataframe\">\n",
       "  <thead>\n",
       "    <tr style=\"text-align: right;\">\n",
       "      <th></th>\n",
       "      <th>primary_title</th>\n",
       "      <th>averagerating</th>\n",
       "      <th>numvotes</th>\n",
       "      <th>genres</th>\n",
       "      <th>split_genres</th>\n",
       "    </tr>\n",
       "  </thead>\n",
       "  <tbody>\n",
       "    <tr>\n",
       "      <th>0</th>\n",
       "      <td>Sunghursh</td>\n",
       "      <td>7.0</td>\n",
       "      <td>77</td>\n",
       "      <td>Action,Crime,Drama</td>\n",
       "      <td>Action</td>\n",
       "    </tr>\n",
       "    <tr>\n",
       "      <th>0</th>\n",
       "      <td>Sunghursh</td>\n",
       "      <td>7.0</td>\n",
       "      <td>77</td>\n",
       "      <td>Action,Crime,Drama</td>\n",
       "      <td>Crime</td>\n",
       "    </tr>\n",
       "    <tr>\n",
       "      <th>0</th>\n",
       "      <td>Sunghursh</td>\n",
       "      <td>7.0</td>\n",
       "      <td>77</td>\n",
       "      <td>Action,Crime,Drama</td>\n",
       "      <td>Drama</td>\n",
       "    </tr>\n",
       "    <tr>\n",
       "      <th>1</th>\n",
       "      <td>One Day Before the Rainy Season</td>\n",
       "      <td>7.2</td>\n",
       "      <td>43</td>\n",
       "      <td>Biography,Drama</td>\n",
       "      <td>Biography</td>\n",
       "    </tr>\n",
       "    <tr>\n",
       "      <th>1</th>\n",
       "      <td>One Day Before the Rainy Season</td>\n",
       "      <td>7.2</td>\n",
       "      <td>43</td>\n",
       "      <td>Biography,Drama</td>\n",
       "      <td>Drama</td>\n",
       "    </tr>\n",
       "    <tr>\n",
       "      <th>...</th>\n",
       "      <td>...</td>\n",
       "      <td>...</td>\n",
       "      <td>...</td>\n",
       "      <td>...</td>\n",
       "      <td>...</td>\n",
       "    </tr>\n",
       "    <tr>\n",
       "      <th>73851</th>\n",
       "      <td>Diabolik sono io</td>\n",
       "      <td>6.2</td>\n",
       "      <td>6</td>\n",
       "      <td>Documentary</td>\n",
       "      <td>Documentary</td>\n",
       "    </tr>\n",
       "    <tr>\n",
       "      <th>73852</th>\n",
       "      <td>Sokagin Çocuklari</td>\n",
       "      <td>8.7</td>\n",
       "      <td>136</td>\n",
       "      <td>Drama,Family</td>\n",
       "      <td>Drama</td>\n",
       "    </tr>\n",
       "    <tr>\n",
       "      <th>73852</th>\n",
       "      <td>Sokagin Çocuklari</td>\n",
       "      <td>8.7</td>\n",
       "      <td>136</td>\n",
       "      <td>Drama,Family</td>\n",
       "      <td>Family</td>\n",
       "    </tr>\n",
       "    <tr>\n",
       "      <th>73853</th>\n",
       "      <td>Albatross</td>\n",
       "      <td>8.5</td>\n",
       "      <td>8</td>\n",
       "      <td>Documentary</td>\n",
       "      <td>Documentary</td>\n",
       "    </tr>\n",
       "    <tr>\n",
       "      <th>73855</th>\n",
       "      <td>Drømmeland</td>\n",
       "      <td>6.5</td>\n",
       "      <td>11</td>\n",
       "      <td>Documentary</td>\n",
       "      <td>Documentary</td>\n",
       "    </tr>\n",
       "  </tbody>\n",
       "</table>\n",
       "<p>128490 rows × 5 columns</p>\n",
       "</div>"
      ],
      "text/plain": [
       "                         primary_title  averagerating  numvotes  \\\n",
       "0                            Sunghursh            7.0        77   \n",
       "0                            Sunghursh            7.0        77   \n",
       "0                            Sunghursh            7.0        77   \n",
       "1      One Day Before the Rainy Season            7.2        43   \n",
       "1      One Day Before the Rainy Season            7.2        43   \n",
       "...                                ...            ...       ...   \n",
       "73851                 Diabolik sono io            6.2         6   \n",
       "73852                Sokagin Çocuklari            8.7       136   \n",
       "73852                Sokagin Çocuklari            8.7       136   \n",
       "73853                        Albatross            8.5         8   \n",
       "73855                       Drømmeland            6.5        11   \n",
       "\n",
       "                   genres split_genres  \n",
       "0      Action,Crime,Drama       Action  \n",
       "0      Action,Crime,Drama        Crime  \n",
       "0      Action,Crime,Drama        Drama  \n",
       "1         Biography,Drama    Biography  \n",
       "1         Biography,Drama        Drama  \n",
       "...                   ...          ...  \n",
       "73851         Documentary  Documentary  \n",
       "73852        Drama,Family        Drama  \n",
       "73852        Drama,Family       Family  \n",
       "73853         Documentary  Documentary  \n",
       "73855         Documentary  Documentary  \n",
       "\n",
       "[128490 rows x 5 columns]"
      ]
     },
     "execution_count": 16,
     "metadata": {},
     "output_type": "execute_result"
    }
   ],
   "source": [
    "ratings_df = ratings_df.explode('split_genres')\n",
    "ratings_df"
   ]
  },
  {
   "cell_type": "markdown",
   "metadata": {},
   "source": [
    "I also wanted to observe common combinations of movie genres, so I filtered out movie genres with less than 500 movie under those genres and created a new data frame for the filtered movie list"
   ]
  },
  {
   "cell_type": "code",
   "execution_count": 17,
   "metadata": {},
   "outputs": [
    {
     "data": {
      "text/html": [
       "<div>\n",
       "<style scoped>\n",
       "    .dataframe tbody tr th:only-of-type {\n",
       "        vertical-align: middle;\n",
       "    }\n",
       "\n",
       "    .dataframe tbody tr th {\n",
       "        vertical-align: top;\n",
       "    }\n",
       "\n",
       "    .dataframe thead th {\n",
       "        text-align: right;\n",
       "    }\n",
       "</style>\n",
       "<table border=\"1\" class=\"dataframe\">\n",
       "  <thead>\n",
       "    <tr style=\"text-align: right;\">\n",
       "      <th></th>\n",
       "      <th>averagerating</th>\n",
       "      <th>numvotes</th>\n",
       "    </tr>\n",
       "    <tr>\n",
       "      <th>genres</th>\n",
       "      <th></th>\n",
       "      <th></th>\n",
       "    </tr>\n",
       "  </thead>\n",
       "  <tbody>\n",
       "    <tr>\n",
       "      <th>Action</th>\n",
       "      <td>5.757712</td>\n",
       "      <td>336.115424</td>\n",
       "    </tr>\n",
       "    <tr>\n",
       "      <th>Action,Adventure,Animation</th>\n",
       "      <td>6.562874</td>\n",
       "      <td>21380.497006</td>\n",
       "    </tr>\n",
       "    <tr>\n",
       "      <th>Action,Adventure,Comedy</th>\n",
       "      <td>5.554032</td>\n",
       "      <td>29260.830645</td>\n",
       "    </tr>\n",
       "    <tr>\n",
       "      <th>Action,Adventure,Drama</th>\n",
       "      <td>5.691579</td>\n",
       "      <td>23607.594737</td>\n",
       "    </tr>\n",
       "    <tr>\n",
       "      <th>Action,Comedy</th>\n",
       "      <td>5.748936</td>\n",
       "      <td>3020.492401</td>\n",
       "    </tr>\n",
       "  </tbody>\n",
       "</table>\n",
       "</div>"
      ],
      "text/plain": [
       "                            averagerating      numvotes\n",
       "genres                                                 \n",
       "Action                           5.757712    336.115424\n",
       "Action,Adventure,Animation       6.562874  21380.497006\n",
       "Action,Adventure,Comedy          5.554032  29260.830645\n",
       "Action,Adventure,Drama           5.691579  23607.594737\n",
       "Action,Comedy                    5.748936   3020.492401"
      ]
     },
     "execution_count": 17,
     "metadata": {},
     "output_type": "execute_result"
    }
   ],
   "source": [
    "x_df = ratings_df.groupby('genres').count().iloc[:,0]\n",
    "x2_df = x_df[x_df >= 500].index\n",
    "combined_ratings_df = ratings_df[ratings_df.genres.isin(x2_df)]\n",
    "combined_ratings_df.groupby('genres').mean().head()"
   ]
  },
  {
   "cell_type": "markdown",
   "metadata": {},
   "source": [
    "Creating data frame for Rotten Tomatoes data"
   ]
  },
  {
   "cell_type": "code",
   "execution_count": 18,
   "metadata": {},
   "outputs": [
    {
     "data": {
      "text/html": [
       "<div>\n",
       "<style scoped>\n",
       "    .dataframe tbody tr th:only-of-type {\n",
       "        vertical-align: middle;\n",
       "    }\n",
       "\n",
       "    .dataframe tbody tr th {\n",
       "        vertical-align: top;\n",
       "    }\n",
       "\n",
       "    .dataframe thead th {\n",
       "        text-align: right;\n",
       "    }\n",
       "</style>\n",
       "<table border=\"1\" class=\"dataframe\">\n",
       "  <thead>\n",
       "    <tr style=\"text-align: right;\">\n",
       "      <th></th>\n",
       "      <th>movie_title</th>\n",
       "      <th>genres</th>\n",
       "      <th>tomatometer_status</th>\n",
       "      <th>tomatometer_rating</th>\n",
       "      <th>tomatometer_count</th>\n",
       "      <th>audience_status</th>\n",
       "      <th>audience_rating</th>\n",
       "      <th>audience_count</th>\n",
       "    </tr>\n",
       "  </thead>\n",
       "  <tbody>\n",
       "    <tr>\n",
       "      <th>0</th>\n",
       "      <td>Titanic</td>\n",
       "      <td>Drama, Romance</td>\n",
       "      <td>Certified-Fresh</td>\n",
       "      <td>89.0</td>\n",
       "      <td>192.0</td>\n",
       "      <td>Upright</td>\n",
       "      <td>69.0</td>\n",
       "      <td>35797635.0</td>\n",
       "    </tr>\n",
       "    <tr>\n",
       "      <th>1</th>\n",
       "      <td>The Lord of the Rings: The Return of the King</td>\n",
       "      <td>Action &amp; Adventure, Classics, Science Fiction ...</td>\n",
       "      <td>Certified-Fresh</td>\n",
       "      <td>93.0</td>\n",
       "      <td>275.0</td>\n",
       "      <td>Upright</td>\n",
       "      <td>86.0</td>\n",
       "      <td>34679773.0</td>\n",
       "    </tr>\n",
       "    <tr>\n",
       "      <th>2</th>\n",
       "      <td>Spider-Man</td>\n",
       "      <td>Action &amp; Adventure, Mystery &amp; Suspense, Scienc...</td>\n",
       "      <td>Certified-Fresh</td>\n",
       "      <td>90.0</td>\n",
       "      <td>245.0</td>\n",
       "      <td>Upright</td>\n",
       "      <td>67.0</td>\n",
       "      <td>34297354.0</td>\n",
       "    </tr>\n",
       "    <tr>\n",
       "      <th>3</th>\n",
       "      <td>Shrek 2</td>\n",
       "      <td>Animation, Comedy, Kids &amp; Family, Science Fict...</td>\n",
       "      <td>Certified-Fresh</td>\n",
       "      <td>89.0</td>\n",
       "      <td>236.0</td>\n",
       "      <td>Upright</td>\n",
       "      <td>69.0</td>\n",
       "      <td>34232524.0</td>\n",
       "    </tr>\n",
       "    <tr>\n",
       "      <th>4</th>\n",
       "      <td>Harry Potter and the Goblet of Fire</td>\n",
       "      <td>Action &amp; Adventure, Kids &amp; Family, Science Fic...</td>\n",
       "      <td>Certified-Fresh</td>\n",
       "      <td>88.0</td>\n",
       "      <td>255.0</td>\n",
       "      <td>Upright</td>\n",
       "      <td>74.0</td>\n",
       "      <td>34153607.0</td>\n",
       "    </tr>\n",
       "  </tbody>\n",
       "</table>\n",
       "</div>"
      ],
      "text/plain": [
       "                                     movie_title  \\\n",
       "0                                        Titanic   \n",
       "1  The Lord of the Rings: The Return of the King   \n",
       "2                                     Spider-Man   \n",
       "3                                        Shrek 2   \n",
       "4            Harry Potter and the Goblet of Fire   \n",
       "\n",
       "                                              genres tomatometer_status  \\\n",
       "0                                     Drama, Romance    Certified-Fresh   \n",
       "1  Action & Adventure, Classics, Science Fiction ...    Certified-Fresh   \n",
       "2  Action & Adventure, Mystery & Suspense, Scienc...    Certified-Fresh   \n",
       "3  Animation, Comedy, Kids & Family, Science Fict...    Certified-Fresh   \n",
       "4  Action & Adventure, Kids & Family, Science Fic...    Certified-Fresh   \n",
       "\n",
       "   tomatometer_rating  tomatometer_count audience_status  audience_rating  \\\n",
       "0                89.0              192.0         Upright             69.0   \n",
       "1                93.0              275.0         Upright             86.0   \n",
       "2                90.0              245.0         Upright             67.0   \n",
       "3                89.0              236.0         Upright             69.0   \n",
       "4                88.0              255.0         Upright             74.0   \n",
       "\n",
       "   audience_count  \n",
       "0      35797635.0  \n",
       "1      34679773.0  \n",
       "2      34297354.0  \n",
       "3      34232524.0  \n",
       "4      34153607.0  "
      ]
     },
     "execution_count": 18,
     "metadata": {},
     "output_type": "execute_result"
    }
   ],
   "source": [
    "cur.execute(\"\"\"SELECT movie_title, genres, tomatometer_status, tomatometer_rating, tomatometer_count, audience_status, audience_rating, audience_count\n",
    "               FROM rotten_tomatoes_movies\n",
    "               ORDER BY audience_count DESC\n",
    "               LIMIT 1000;\"\"\")\n",
    "rotten_tomatoes_df = pd.DataFrame(cur.fetchall())\n",
    "rotten_tomatoes_df.columns = [x[0] for x in cur.description]\n",
    "rotten_tomatoes_df.head(5)"
   ]
  },
  {
   "cell_type": "code",
   "execution_count": 19,
   "metadata": {},
   "outputs": [],
   "source": [
    "rotten_tomatoes_df['split_genres'] = rotten_tomatoes_df['genres'].str.split(',')\n",
    "rotten_tomatoes_df = rotten_tomatoes_df.explode('split_genres')\n",
    "rotten_tomatoes_df['split_genres'] = rotten_tomatoes_df['split_genres'].str.lstrip(\" \")"
   ]
  },
  {
   "cell_type": "markdown",
   "metadata": {},
   "source": [
    "## Data Visualization"
   ]
  },
  {
   "cell_type": "markdown",
   "metadata": {},
   "source": [
    "Average ratings by genre, for genre categories with more than 500 entries"
   ]
  },
  {
   "cell_type": "code",
   "execution_count": 27,
   "metadata": {},
   "outputs": [
    {
     "data": {
      "text/plain": [
       "Text(0.5, 1.0, 'IMDB Average Movie Ratings (Combined Genres)')"
      ]
     },
     "execution_count": 27,
     "metadata": {},
     "output_type": "execute_result"
    },
    {
     "data": {
      "image/png": "[encoded data removed]",
      "text/plain": [
       "<Figure size 1440x576 with 1 Axes>"
      ]
     },
     "metadata": {
      "needs_background": "light"
     },
     "output_type": "display_data"
    }
   ],
   "source": [
    "f, ax = plt.subplots(figsize=(20,8))\n",
    "ax = sns.barplot(x='genres', y='averagerating', data=combined_ratings_df,\n",
    "                order=x2_df)\n",
    "ax.set_xticklabels(ax.get_xticklabels(), rotation=90)\n",
    "ax.set_ylim(0,10)\n",
    "ax.set_xlabel('Genres')\n",
    "ax.set_ylabel('Average movie rating')\n",
    "ax.set_title('IMDB Average Movie Ratings (Combined Genres)')"
   ]
  },
  {
   "cell_type": "code",
   "execution_count": 28,
   "metadata": {},
   "outputs": [
    {
     "data": {
      "text/plain": [
       "Text(0.5, 1.0, 'IMDB Average Movie Ratings (Individual Genres)')"
      ]
     },
     "execution_count": 28,
     "metadata": {},
     "output_type": "execute_result"
    },
    {
     "data": {
      "image/png": "[encoded data removed]",
      "text/plain": [
       "<Figure size 720x576 with 1 Axes>"
      ]
     },
     "metadata": {
      "needs_background": "light"
     },
     "output_type": "display_data"
    }
   ],
   "source": [
    "f, ax = plt.subplots(figsize=(10,8))\n",
    "ax = sns.barplot(x='split_genres', y='averagerating', data=ratings_df)\n",
    "ax.set_xticklabels(ax.get_xticklabels(), rotation=90)\n",
    "ax.set_ylim(0,10)\n",
    "ax.set_xlabel('Genres')\n",
    "ax.set_ylabel('Average movie rating')\n",
    "ax.set_title('IMDB Average Movie Ratings (Individual Genres)')"
   ]
  },
  {
   "cell_type": "markdown",
   "metadata": {},
   "source": [
    "Comparing ratings per genre for critics vs audience ratings on Rotten Tomatoes (top 1000 movies by audience votes)\n",
    "\n"
   ]
  },
  {
   "cell_type": "code",
   "execution_count": 33,
   "metadata": {},
   "outputs": [
    {
     "data": {
      "text/plain": [
       "[Text(0, 0, 'Drama'),\n",
       " Text(1, 0, ' Romance'),\n",
       " Text(2, 0, 'Action & Adventure'),\n",
       " Text(3, 0, ' Classics'),\n",
       " Text(4, 0, ' Science Fiction & Fantasy'),\n",
       " Text(5, 0, ' Mystery & Suspense'),\n",
       " Text(6, 0, 'Animation'),\n",
       " Text(7, 0, ' Comedy'),\n",
       " Text(8, 0, ' Kids & Family'),\n",
       " Text(9, 0, ' Drama'),\n",
       " Text(10, 0, 'Kids & Family'),\n",
       " Text(11, 0, 'Comedy'),\n",
       " Text(12, 0, ' Sports & Fitness'),\n",
       " Text(13, 0, ' Horror'),\n",
       " Text(14, 0, 'Horror'),\n",
       " Text(15, 0, 'Mystery & Suspense'),\n",
       " Text(16, 0, ' Musical & Performing Arts'),\n",
       " Text(17, 0, ' Animation'),\n",
       " Text(18, 0, 'Cult Movies'),\n",
       " Text(19, 0, ' Special Interest'),\n",
       " Text(20, 0, 'Classics'),\n",
       " Text(21, 0, ' Documentary'),\n",
       " Text(22, 0, 'Art House & International'),\n",
       " Text(23, 0, ' Western'),\n",
       " Text(24, 0, ' Art House & International'),\n",
       " Text(25, 0, ' Cult Movies'),\n",
       " Text(26, 0, 'Musical & Performing Arts'),\n",
       " Text(27, 0, 'Science Fiction & Fantasy'),\n",
       " Text(28, 0, 'Documentary')]"
      ]
     },
     "execution_count": 33,
     "metadata": {},
     "output_type": "execute_result"
    },
    {
     "data": {
      "image/png": "[encoded data removed]",
      "text/plain": [
       "<Figure size 720x576 with 1 Axes>"
      ]
     },
     "metadata": {
      "needs_background": "light"
     },
     "output_type": "display_data"
    }
   ],
   "source": [
    "f, ax = plt.subplots(figsize=(10,8))\n",
    "ax = sns.barplot(x='split_genres', y='tomatometer_rating', data=rotten_tomatoes_df, color='g')\n",
    "ax = sns.barplot(x='split_genres', y='audience_rating', data=rotten_tomatoes_df, color='b')\n",
    "ax.set_xticklabels(ax.get_xticklabels(), rotation=90)"
   ]
  },
  {
   "cell_type": "code",
   "execution_count": 32,
   "metadata": {},
   "outputs": [
    {
     "data": {
      "text/plain": [
       "Text(0.5, 1.0, 'Average Gross Profit Based On Genre')"
      ]
     },
     "execution_count": 32,
     "metadata": {},
     "output_type": "execute_result"
    },
    {
     "data": {
      "image/png": "[encoded data removed]",
      "text/plain": [
       "<Figure size 864x576 with 1 Axes>"
      ]
     },
     "metadata": {
      "needs_background": "light"
     },
     "output_type": "display_data"
    }
   ],
   "source": [
    "f, ax = plt.subplots(figsize=(12,8))\n",
    "sns.set_color_codes('pastel')\n",
    "sns.barplot(x='split_genres', y='total_gross', data=gross_df, label='Total gross', color='b', ci=None)\n",
    "\n",
    "sns.set_color_codes('muted')\n",
    "sns.barplot(x='split_genres', y='domestic_gross', data=gross_df, label='Domestic gross', color='b', ci=None)\n",
    "ax.set_xticklabels(ax.get_xticklabels(), rotation=90)\n",
    "ax.legend(bbox_to_anchor=(1.19, 1), loc=\"upper right\", frameon=True)\n",
    "ax.set_xlabel('Genres')\n",
    "ax.set_ylabel('Average gross profit (in millions)')\n",
    "ax.set_title('Average Gross Profit Based On Genre')"
   ]
  },
  {
   "cell_type": "markdown",
   "metadata": {},
   "source": [
    "Average gross by genre"
   ]
  },
  {
   "cell_type": "code",
   "execution_count": 21,
   "metadata": {},
   "outputs": [
    {
     "data": {
      "text/plain": [
       "[Text(0, 0, 'Action'),\n",
       " Text(1, 0, 'Crime'),\n",
       " Text(2, 0, 'Drama'),\n",
       " Text(3, 0, 'Comedy'),\n",
       " Text(4, 0, 'Horror'),\n",
       " Text(5, 0, 'Thriller'),\n",
       " Text(6, 0, 'Adventure'),\n",
       " Text(7, 0, 'Animation'),\n",
       " Text(8, 0, 'Documentary'),\n",
       " Text(9, 0, 'History'),\n",
       " Text(10, 0, 'Mystery'),\n",
       " Text(11, 0, 'Family'),\n",
       " Text(12, 0, 'Romance'),\n",
       " Text(13, 0, 'Biography'),\n",
       " Text(14, 0, 'Music'),\n",
       " Text(15, 0, 'Sport')]"
      ]
     },
     "execution_count": 21,
     "metadata": {},
     "output_type": "execute_result"
    },
    {
     "data": {
      "image/png": "[encoded data removed]",
      "text/plain": [
       "<Figure size 720x576 with 1 Axes>"
      ]
     },
     "metadata": {
      "needs_background": "light"
     },
     "output_type": "display_data"
    }
   ],
   "source": [
    "f, ax = plt.subplots(figsize=(10,8))\n",
    "ax = sns.barplot(x='split_genres', y='averagerating', data=combined_ratings_df)\n",
    "ax.set_xticklabels(ax.get_xticklabels(), rotation=90)"
   ]
  },
  {
   "cell_type": "markdown",
   "metadata": {},
   "source": [
    "Domestic gross earnings across genres"
   ]
  },
  {
   "cell_type": "code",
   "execution_count": 24,
   "metadata": {},
   "outputs": [
    {
     "data": {
      "text/plain": [
       "[Text(0, 0, 'Action'),\n",
       " Text(1, 0, 'Drama'),\n",
       " Text(2, 0, 'Thriller'),\n",
       " Text(3, 0, 'War'),\n",
       " Text(4, 0, 'Horror'),\n",
       " Text(5, 0, 'Mystery'),\n",
       " Text(6, 0, 'Comedy'),\n",
       " Text(7, 0, 'Romance'),\n",
       " Text(8, 0, 'History'),\n",
       " Text(9, 0, 'Biography'),\n",
       " Text(10, 0, 'Adventure'),\n",
       " Text(11, 0, 'Crime'),\n",
       " Text(12, 0, 'Documentary'),\n",
       " Text(13, 0, 'Music'),\n",
       " Text(14, 0, 'Fantasy'),\n",
       " Text(15, 0, 'Animation'),\n",
       " Text(16, 0, 'Western'),\n",
       " Text(17, 0, 'Family'),\n",
       " Text(18, 0, 'Sci-Fi'),\n",
       " Text(19, 0, 'Musical'),\n",
       " Text(20, 0, 'Sport'),\n",
       " Text(21, 0, 'News')]"
      ]
     },
     "execution_count": 24,
     "metadata": {},
     "output_type": "execute_result"
    },
    {
     "data": {
      "image/png": "[encoded data removed]",
      "text/plain": [
       "<Figure size 720x576 with 1 Axes>"
      ]
     },
     "metadata": {
      "needs_background": "light"
     },
     "output_type": "display_data"
    }
   ],
   "source": [
    "f, ax = plt.subplots(figsize=(10,8))\n",
    "ax = sns.barplot(x='split_genres', y='foreign_gross', data=gross_df)\n",
    "ax.set_xticklabels(ax.get_xticklabels(), rotation=90)"
   ]
  },
  {
   "cell_type": "markdown",
   "metadata": {},
   "source": [
    "Foreign gross earnings across genres"
   ]
  },
  {
   "cell_type": "code",
   "execution_count": 25,
   "metadata": {},
   "outputs": [
    {
     "data": {
      "text/plain": [
       "[Text(0, 0, 'Action'),\n",
       " Text(1, 0, 'Drama'),\n",
       " Text(2, 0, 'Thriller'),\n",
       " Text(3, 0, 'War'),\n",
       " Text(4, 0, 'Horror'),\n",
       " Text(5, 0, 'Mystery'),\n",
       " Text(6, 0, 'Comedy'),\n",
       " Text(7, 0, 'Romance'),\n",
       " Text(8, 0, 'History'),\n",
       " Text(9, 0, 'Biography'),\n",
       " Text(10, 0, 'Adventure'),\n",
       " Text(11, 0, 'Crime'),\n",
       " Text(12, 0, 'Documentary'),\n",
       " Text(13, 0, 'Music'),\n",
       " Text(14, 0, 'Fantasy'),\n",
       " Text(15, 0, 'Animation'),\n",
       " Text(16, 0, 'Western'),\n",
       " Text(17, 0, 'Family'),\n",
       " Text(18, 0, 'Sci-Fi'),\n",
       " Text(19, 0, 'Musical'),\n",
       " Text(20, 0, 'Sport'),\n",
       " Text(21, 0, 'News')]"
      ]
     },
     "execution_count": 25,
     "metadata": {},
     "output_type": "execute_result"
    },
    {
     "data": {
      "image/png": "[encoded data removed]",
      "text/plain": [
       "<Figure size 720x576 with 1 Axes>"
      ]
     },
     "metadata": {
      "needs_background": "light"
     },
     "output_type": "display_data"
    }
   ],
   "source": [
    "f, ax = plt.subplots(figsize=(10,8))\n",
    "ax = sns.barplot(x='split_genres', y='foreign_gross', data=gross_df)\n",
    "ax.set_xticklabels(ax.get_xticklabels(), rotation=90)"
   ]
  },
  {
   "cell_type": "markdown",
   "metadata": {},
   "source": [
    "Comparison of domestic and foreign gross earnings across genres"
   ]
  },
  {
   "cell_type": "code",
   "execution_count": 26,
   "metadata": {},
   "outputs": [
    {
     "data": {
      "text/plain": [
       "<AxesSubplot:xlabel='split_genres'>"
      ]
     },
     "execution_count": 26,
     "metadata": {},
     "output_type": "execute_result"
    },
    {
     "data": {
      "image/png": "[encoded data removed]",
      "text/plain": [
       "<Figure size 1080x576 with 1 Axes>"
      ]
     },
     "metadata": {
      "needs_background": "light"
     },
     "output_type": "display_data"
    }
   ],
   "source": [
    "gross_df.groupby('split_genres').mean().plot(figsize=(15,8), kind='bar')"
   ]
  },
  {
   "cell_type": "markdown",
   "metadata": {},
   "source": [
    "## Conclusions"
   ]
  },
  {
   "cell_type": "markdown",
   "metadata": {},
   "source": [
    "- You may want to start by offering positions to up and coming directors and scriptwriters, preferrably those who had experience working on successful movies before, and gain leverage in the movie production process.\n",
    "- Something to take into consideration is that for some movies, a large part of their success can be attributed to expectations tied to many of its factors, such as it being part of a series, or having certain A-list actors. If you want to make a footprint in the movie industry, be sure you keep those limitations in mind as you try to work your way up."
   ]
  },
  {
   "cell_type": "code",
   "execution_count": null,
   "metadata": {},
   "outputs": [],
   "source": []
  }
 ],
 "metadata": {
  "kernelspec": {
   "display_name": "Python 3",
   "language": "python",
   "name": "python3"
  },
  "language_info": {
   "codemirror_mode": {
    "name": "ipython",
    "version": 3
   },
   "file_extension": ".py",
   "mimetype": "text/x-python",
   "name": "python",
   "nbconvert_exporter": "python",
   "pygments_lexer": "ipython3",
   "version": "3.8.5"
  }
 },
 "nbformat": 4,
 "nbformat_minor": 4
}
